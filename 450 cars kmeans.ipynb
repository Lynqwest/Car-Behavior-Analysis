{
 "cells": [
  {
   "cell_type": "code",
   "execution_count": 2,
   "metadata": {},
   "outputs": [],
   "source": [
    "from sklearn.cluster import  KMeans\n",
    "import numpy as np\n",
    "import matplotlib.pyplot as plt\n",
    "import pandas as pd"
   ]
  },
  {
   "cell_type": "code",
   "execution_count": 4,
   "metadata": {},
   "outputs": [
    {
     "data": {
      "text/html": [
       "<div>\n",
       "<style scoped>\n",
       "    .dataframe tbody tr th:only-of-type {\n",
       "        vertical-align: middle;\n",
       "    }\n",
       "\n",
       "    .dataframe tbody tr th {\n",
       "        vertical-align: top;\n",
       "    }\n",
       "\n",
       "    .dataframe thead th {\n",
       "        text-align: right;\n",
       "    }\n",
       "</style>\n",
       "<table border=\"1\" class=\"dataframe\">\n",
       "  <thead>\n",
       "    <tr style=\"text-align: right;\">\n",
       "      <th></th>\n",
       "      <th>car_number</th>\n",
       "      <th>行车里程</th>\n",
       "      <th>平均速度得分</th>\n",
       "      <th>熄火滑行得分</th>\n",
       "      <th>怠速预热得分</th>\n",
       "      <th>超长怠速得分</th>\n",
       "      <th>急加速得分</th>\n",
       "      <th>急减速得分</th>\n",
       "      <th>急转弯得分</th>\n",
       "      <th>疲劳驾驶得分</th>\n",
       "      <th>日累计疲劳驾驶得分</th>\n",
       "      <th>score</th>\n",
       "    </tr>\n",
       "  </thead>\n",
       "  <tbody>\n",
       "    <tr>\n",
       "      <th>0</th>\n",
       "      <td>AA00001_normal.csv</td>\n",
       "      <td>6513</td>\n",
       "      <td>50</td>\n",
       "      <td>70</td>\n",
       "      <td>20</td>\n",
       "      <td>10</td>\n",
       "      <td>85</td>\n",
       "      <td>65</td>\n",
       "      <td>20</td>\n",
       "      <td>100</td>\n",
       "      <td>100</td>\n",
       "      <td>520</td>\n",
       "    </tr>\n",
       "    <tr>\n",
       "      <th>1</th>\n",
       "      <td>AA00002_normal.csv</td>\n",
       "      <td>749</td>\n",
       "      <td>75</td>\n",
       "      <td>100</td>\n",
       "      <td>65</td>\n",
       "      <td>80</td>\n",
       "      <td>85</td>\n",
       "      <td>65</td>\n",
       "      <td>85</td>\n",
       "      <td>100</td>\n",
       "      <td>100</td>\n",
       "      <td>755</td>\n",
       "    </tr>\n",
       "    <tr>\n",
       "      <th>2</th>\n",
       "      <td>AA00004_normal.csv</td>\n",
       "      <td>597</td>\n",
       "      <td>75</td>\n",
       "      <td>80</td>\n",
       "      <td>65</td>\n",
       "      <td>80</td>\n",
       "      <td>65</td>\n",
       "      <td>65</td>\n",
       "      <td>20</td>\n",
       "      <td>100</td>\n",
       "      <td>100</td>\n",
       "      <td>650</td>\n",
       "    </tr>\n",
       "    <tr>\n",
       "      <th>3</th>\n",
       "      <td>AA00036_normal.csv</td>\n",
       "      <td>304</td>\n",
       "      <td>75</td>\n",
       "      <td>100</td>\n",
       "      <td>85</td>\n",
       "      <td>10</td>\n",
       "      <td>65</td>\n",
       "      <td>40</td>\n",
       "      <td>100</td>\n",
       "      <td>100</td>\n",
       "      <td>100</td>\n",
       "      <td>675</td>\n",
       "    </tr>\n",
       "    <tr>\n",
       "      <th>4</th>\n",
       "      <td>AA00045_normal.csv</td>\n",
       "      <td>222</td>\n",
       "      <td>75</td>\n",
       "      <td>100</td>\n",
       "      <td>85</td>\n",
       "      <td>90</td>\n",
       "      <td>65</td>\n",
       "      <td>65</td>\n",
       "      <td>40</td>\n",
       "      <td>100</td>\n",
       "      <td>100</td>\n",
       "      <td>720</td>\n",
       "    </tr>\n",
       "  </tbody>\n",
       "</table>\n",
       "</div>"
      ],
      "text/plain": [
       "           car_number  行车里程  平均速度得分  熄火滑行得分  怠速预热得分  超长怠速得分  急加速得分  急减速得分  \\\n",
       "0  AA00001_normal.csv  6513      50      70      20      10     85     65   \n",
       "1  AA00002_normal.csv   749      75     100      65      80     85     65   \n",
       "2  AA00004_normal.csv   597      75      80      65      80     65     65   \n",
       "3  AA00036_normal.csv   304      75     100      85      10     65     40   \n",
       "4  AA00045_normal.csv   222      75     100      85      90     65     65   \n",
       "\n",
       "   急转弯得分  疲劳驾驶得分  日累计疲劳驾驶得分  score  \n",
       "0     20     100        100    520  \n",
       "1     85     100        100    755  \n",
       "2     20     100        100    650  \n",
       "3    100     100        100    675  \n",
       "4     40     100        100    720  "
      ]
     },
     "execution_count": 4,
     "metadata": {},
     "output_type": "execute_result"
    }
   ],
   "source": [
    "data = pd.read_csv('450 cars evaluation kmeans.csv' , encoding = 'gb2312')\n",
    "data.head()"
   ]
  },
  {
   "cell_type": "code",
   "execution_count": 37,
   "metadata": {},
   "outputs": [
    {
     "data": {
      "text/html": [
       "<div>\n",
       "<style scoped>\n",
       "    .dataframe tbody tr th:only-of-type {\n",
       "        vertical-align: middle;\n",
       "    }\n",
       "\n",
       "    .dataframe tbody tr th {\n",
       "        vertical-align: top;\n",
       "    }\n",
       "\n",
       "    .dataframe thead th {\n",
       "        text-align: right;\n",
       "    }\n",
       "</style>\n",
       "<table border=\"1\" class=\"dataframe\">\n",
       "  <thead>\n",
       "    <tr style=\"text-align: right;\">\n",
       "      <th></th>\n",
       "      <th>行车里程</th>\n",
       "      <th>平均速度得分</th>\n",
       "      <th>熄火滑行得分</th>\n",
       "      <th>怠速预热得分</th>\n",
       "      <th>超长怠速得分</th>\n",
       "      <th>急加速得分</th>\n",
       "      <th>急减速得分</th>\n",
       "      <th>急转弯得分</th>\n",
       "      <th>疲劳驾驶得分</th>\n",
       "      <th>日累计疲劳驾驶得分</th>\n",
       "      <th>score</th>\n",
       "    </tr>\n",
       "    <tr>\n",
       "      <th>car_number</th>\n",
       "      <th></th>\n",
       "      <th></th>\n",
       "      <th></th>\n",
       "      <th></th>\n",
       "      <th></th>\n",
       "      <th></th>\n",
       "      <th></th>\n",
       "      <th></th>\n",
       "      <th></th>\n",
       "      <th></th>\n",
       "      <th></th>\n",
       "    </tr>\n",
       "  </thead>\n",
       "  <tbody>\n",
       "    <tr>\n",
       "      <th>AA00001_normal.csv</th>\n",
       "      <td>6513</td>\n",
       "      <td>50</td>\n",
       "      <td>70</td>\n",
       "      <td>20</td>\n",
       "      <td>10</td>\n",
       "      <td>85</td>\n",
       "      <td>65</td>\n",
       "      <td>20</td>\n",
       "      <td>100</td>\n",
       "      <td>100</td>\n",
       "      <td>520</td>\n",
       "    </tr>\n",
       "    <tr>\n",
       "      <th>AA00002_normal.csv</th>\n",
       "      <td>749</td>\n",
       "      <td>75</td>\n",
       "      <td>100</td>\n",
       "      <td>65</td>\n",
       "      <td>80</td>\n",
       "      <td>85</td>\n",
       "      <td>65</td>\n",
       "      <td>85</td>\n",
       "      <td>100</td>\n",
       "      <td>100</td>\n",
       "      <td>755</td>\n",
       "    </tr>\n",
       "    <tr>\n",
       "      <th>AA00004_normal.csv</th>\n",
       "      <td>597</td>\n",
       "      <td>75</td>\n",
       "      <td>80</td>\n",
       "      <td>65</td>\n",
       "      <td>80</td>\n",
       "      <td>65</td>\n",
       "      <td>65</td>\n",
       "      <td>20</td>\n",
       "      <td>100</td>\n",
       "      <td>100</td>\n",
       "      <td>650</td>\n",
       "    </tr>\n",
       "    <tr>\n",
       "      <th>AA00036_normal.csv</th>\n",
       "      <td>304</td>\n",
       "      <td>75</td>\n",
       "      <td>100</td>\n",
       "      <td>85</td>\n",
       "      <td>10</td>\n",
       "      <td>65</td>\n",
       "      <td>40</td>\n",
       "      <td>100</td>\n",
       "      <td>100</td>\n",
       "      <td>100</td>\n",
       "      <td>675</td>\n",
       "    </tr>\n",
       "    <tr>\n",
       "      <th>AA00045_normal.csv</th>\n",
       "      <td>222</td>\n",
       "      <td>75</td>\n",
       "      <td>100</td>\n",
       "      <td>85</td>\n",
       "      <td>90</td>\n",
       "      <td>65</td>\n",
       "      <td>65</td>\n",
       "      <td>40</td>\n",
       "      <td>100</td>\n",
       "      <td>100</td>\n",
       "      <td>720</td>\n",
       "    </tr>\n",
       "  </tbody>\n",
       "</table>\n",
       "</div>"
      ],
      "text/plain": [
       "                    行车里程  平均速度得分  熄火滑行得分  怠速预热得分  超长怠速得分  急加速得分  急减速得分  急转弯得分  \\\n",
       "car_number                                                                      \n",
       "AA00001_normal.csv  6513      50      70      20      10     85     65     20   \n",
       "AA00002_normal.csv   749      75     100      65      80     85     65     85   \n",
       "AA00004_normal.csv   597      75      80      65      80     65     65     20   \n",
       "AA00036_normal.csv   304      75     100      85      10     65     40    100   \n",
       "AA00045_normal.csv   222      75     100      85      90     65     65     40   \n",
       "\n",
       "                    疲劳驾驶得分  日累计疲劳驾驶得分  score  \n",
       "car_number                                    \n",
       "AA00001_normal.csv     100        100    520  \n",
       "AA00002_normal.csv     100        100    755  \n",
       "AA00004_normal.csv     100        100    650  \n",
       "AA00036_normal.csv     100        100    675  \n",
       "AA00045_normal.csv     100        100    720  "
      ]
     },
     "execution_count": 37,
     "metadata": {},
     "output_type": "execute_result"
    }
   ],
   "source": [
    "index_data = data.set_index('car_number')\n",
    "index_data.head()"
   ]
  },
  {
   "cell_type": "code",
   "execution_count": 36,
   "metadata": {},
   "outputs": [
    {
     "ename": "AttributeError",
     "evalue": "'Series' object has no attribute 'reshape'",
     "output_type": "error",
     "traceback": [
      "\u001b[1;31m---------------------------------------------------------------------------\u001b[0m",
      "\u001b[1;31mAttributeError\u001b[0m                            Traceback (most recent call last)",
      "\u001b[1;32m<ipython-input-36-0d5a8d779175>\u001b[0m in \u001b[0;36m<module>\u001b[1;34m()\u001b[0m\n\u001b[0;32m      2\u001b[0m \u001b[0mindex_data\u001b[0m \u001b[1;33m=\u001b[0m \u001b[0mdata\u001b[0m\u001b[1;33m.\u001b[0m\u001b[0mset_index\u001b[0m\u001b[1;33m(\u001b[0m\u001b[1;34m'car_number'\u001b[0m\u001b[1;33m)\u001b[0m\u001b[1;33m\u001b[0m\u001b[0m\n\u001b[0;32m      3\u001b[0m \u001b[0mscaler\u001b[0m \u001b[1;33m=\u001b[0m \u001b[0mMinMaxScaler\u001b[0m\u001b[1;33m(\u001b[0m\u001b[0mfeature_range\u001b[0m\u001b[1;33m=\u001b[0m\u001b[1;33m(\u001b[0m\u001b[1;36m0\u001b[0m\u001b[1;33m,\u001b[0m\u001b[1;36m100\u001b[0m\u001b[1;33m)\u001b[0m\u001b[1;33m)\u001b[0m\u001b[1;33m\u001b[0m\u001b[0m\n\u001b[1;32m----> 4\u001b[1;33m \u001b[0mscaler\u001b[0m\u001b[1;33m.\u001b[0m\u001b[0mfit\u001b[0m\u001b[1;33m(\u001b[0m\u001b[0mindex_data\u001b[0m\u001b[1;33m.\u001b[0m\u001b[0mloc\u001b[0m\u001b[1;33m[\u001b[0m\u001b[1;33m:\u001b[0m\u001b[1;33m,\u001b[0m\u001b[1;34m'行车里程'\u001b[0m\u001b[1;33m]\u001b[0m\u001b[1;33m.\u001b[0m\u001b[0mreshape\u001b[0m\u001b[1;33m(\u001b[0m\u001b[1;33m-\u001b[0m\u001b[1;36m1\u001b[0m\u001b[1;33m,\u001b[0m \u001b[1;36m1\u001b[0m\u001b[1;33m)\u001b[0m\u001b[1;33m)\u001b[0m\u001b[1;33m\u001b[0m\u001b[0m\n\u001b[0m\u001b[0;32m      5\u001b[0m \u001b[1;31m# print(scaler.data_max_)\u001b[0m\u001b[1;33m\u001b[0m\u001b[1;33m\u001b[0m\u001b[0m\n\u001b[0;32m      6\u001b[0m \u001b[1;31m# print(scaler.data_min_)\u001b[0m\u001b[1;33m\u001b[0m\u001b[1;33m\u001b[0m\u001b[0m\n",
      "\u001b[1;32mD:\\Anaconda3\\lib\\site-packages\\pandas\\core\\generic.py\u001b[0m in \u001b[0;36m__getattr__\u001b[1;34m(self, name)\u001b[0m\n\u001b[0;32m   4374\u001b[0m             \u001b[1;32mif\u001b[0m \u001b[0mself\u001b[0m\u001b[1;33m.\u001b[0m\u001b[0m_info_axis\u001b[0m\u001b[1;33m.\u001b[0m\u001b[0m_can_hold_identifiers_and_holds_name\u001b[0m\u001b[1;33m(\u001b[0m\u001b[0mname\u001b[0m\u001b[1;33m)\u001b[0m\u001b[1;33m:\u001b[0m\u001b[1;33m\u001b[0m\u001b[0m\n\u001b[0;32m   4375\u001b[0m                 \u001b[1;32mreturn\u001b[0m \u001b[0mself\u001b[0m\u001b[1;33m[\u001b[0m\u001b[0mname\u001b[0m\u001b[1;33m]\u001b[0m\u001b[1;33m\u001b[0m\u001b[0m\n\u001b[1;32m-> 4376\u001b[1;33m             \u001b[1;32mreturn\u001b[0m \u001b[0mobject\u001b[0m\u001b[1;33m.\u001b[0m\u001b[0m__getattribute__\u001b[0m\u001b[1;33m(\u001b[0m\u001b[0mself\u001b[0m\u001b[1;33m,\u001b[0m \u001b[0mname\u001b[0m\u001b[1;33m)\u001b[0m\u001b[1;33m\u001b[0m\u001b[0m\n\u001b[0m\u001b[0;32m   4377\u001b[0m \u001b[1;33m\u001b[0m\u001b[0m\n\u001b[0;32m   4378\u001b[0m     \u001b[1;32mdef\u001b[0m \u001b[0m__setattr__\u001b[0m\u001b[1;33m(\u001b[0m\u001b[0mself\u001b[0m\u001b[1;33m,\u001b[0m \u001b[0mname\u001b[0m\u001b[1;33m,\u001b[0m \u001b[0mvalue\u001b[0m\u001b[1;33m)\u001b[0m\u001b[1;33m:\u001b[0m\u001b[1;33m\u001b[0m\u001b[0m\n",
      "\u001b[1;31mAttributeError\u001b[0m: 'Series' object has no attribute 'reshape'"
     ]
    }
   ],
   "source": [
    "from sklearn.preprocessing import MinMaxScaler\n",
    "index_data = data.set_index('car_number')\n",
    "scaler = MinMaxScaler(feature_range=(0,100))\n",
    "scaler.fit(index_data.loc[:,'行车里程'].reshape(-1, 1))\n",
    "# print(scaler.data_max_)\n",
    "# print(scaler.data_min_)\n",
    "# print(scaler.data_range_)\n",
    "\n",
    "scaler_data = scaler.transform(index_data)\n",
    "# index_data.to_csv('450 cars evaluation minmax.csv', encoding = 'gb2312')"
   ]
  },
  {
   "cell_type": "code",
   "execution_count": 33,
   "metadata": {},
   "outputs": [
    {
     "name": "stdout",
     "output_type": "stream",
     "text": [
      "[48] [16550]\n"
     ]
    }
   ],
   "source": [
    "#异常归一化\n",
    "def abnormal_scaler(df,col,k):\n",
    "    min_ = df.nsmallest(k,col)[col].iloc[k-1:].values\n",
    "    max_ = df.nlargest(k,col)[col].iloc[k-1:].values\n",
    "    print(min_,max_)\n",
    "    df[col] = (df[col]-min_)/(max_-min_)*100\n",
    "    \n",
    "    return df[col]\n",
    "# print(scale_data.nlargest(5,'用户当月账户余额（元）'))\n",
    "# print(scale_data.nsmallest(5,'用户当月账户余额（元）'))\n",
    "# scale_data.nlargest(5,'用户当月账户余额（元）')['用户当月账户余额（元）'].iloc[4:].values\n",
    "# data.loc[:,'行车里程'] = data.loc[:,'行车里程'].apply(abnormal_scaler(data,''))\n",
    "index_data.loc[:,'行车里程'] = abnormal_scaler(index_data,'行车里程',5)\n",
    "index_data.to_csv('450 cars evaluation minmax.csv', encoding = 'gb2312')"
   ]
  },
  {
   "cell_type": "code",
   "execution_count": 41,
   "metadata": {},
   "outputs": [
    {
     "data": {
      "text/plain": [
       "KMeans(algorithm='auto', copy_x=True, init='k-means++', max_iter=300,\n",
       "    n_clusters=4, n_init=10, n_jobs=1, precompute_distances='auto',\n",
       "    random_state=None, tol=0.0001, verbose=0)"
      ]
     },
     "execution_count": 41,
     "metadata": {},
     "output_type": "execute_result"
    }
   ],
   "source": [
    "k = 4\n",
    "km_data = index_data.drop('行车里程',axis = 1)\n",
    "km = KMeans(n_clusters = k)\n",
    "km.fit(km_data)\n"
   ]
  },
  {
   "cell_type": "code",
   "execution_count": 42,
   "metadata": {},
   "outputs": [
    {
     "name": "stdout",
     "output_type": "stream",
     "text": [
      "[[ 72.64423077  88.84615385  55.28846154  35.48076923  56.58653846\n",
      "   44.27884615  25.04807692  99.80769231  99.42307692 577.40384615]\n",
      " [ 81.45038168  93.96946565  75.30534351  75.49618321  60.91603053\n",
      "   43.96946565  79.3129771  100.         100.         710.41984733]\n",
      " [ 74.8015873   93.80952381  70.          82.06349206  63.69047619\n",
      "   51.03174603  25.95238095  99.84126984  99.52380952 660.71428571]\n",
      " [ 86.34831461  97.07865169  84.94382022  93.93258427  67.19101124\n",
      "   56.06741573  89.88764045 100.         100.         775.4494382 ]]\n"
     ]
    }
   ],
   "source": [
    "\n",
    "np.set_printoptions(suppress=True)\n",
    "print(km.cluster_centers_)"
   ]
  },
  {
   "cell_type": "code",
   "execution_count": 43,
   "metadata": {},
   "outputs": [],
   "source": [
    "from sklearn.decomposition import PCA\n",
    "pca = PCA(n_components=3)\n",
    "pca_data = pca.fit_transform(km_data)\n",
    "# print pca.explained_variance_ratio_\n",
    "# print pca.explained_variance_"
   ]
  },
  {
   "cell_type": "code",
   "execution_count": 50,
   "metadata": {},
   "outputs": [
    {
     "name": "stderr",
     "output_type": "stream",
     "text": [
      "No handles with labels found to put in legend.\n"
     ]
    },
    {
     "data": {
      "image/png": "[encoded data removed]",
      "text/plain": [
       "<Figure size 432x288 with 1 Axes>"
      ]
     },
     "metadata": {
      "needs_background": "light"
     },
     "output_type": "display_data"
    }
   ],
   "source": [
    "y_pred = KMeans(n_clusters=4, random_state=9).fit_predict(pca_data)\n",
    "plt.scatter(pca_data[:, 0], pca_data[:, 1], c=y_pred)\n",
    "plt.legend()\n",
    "plt.show()"
   ]
  },
  {
   "cell_type": "code",
   "execution_count": null,
   "metadata": {},
   "outputs": [],
   "source": [
    "   平均速度\t      熄火滑行\t   怠速预热 \t超长怠速\t急加速  \t急减速     \t急转弯 \t疲劳驾驶 \t  日累计疲劳\t   score\n",
    "0 [ 72.64423077  88.84615385  55.28846154  35.48076923  56.58653846 44.27884615  25.04807692  99.80769231  99.42307692  577.40384615]\n",
    "1 [ 81.45038168  93.96946565  75.30534351  75.49618321  60.91603053 43.96946565  79.3129771   100.         100.         710.41984733]\n",
    "2 [ 74.8015873   93.80952381  70.          82.06349206  63.69047619 51.03174603  25.95238095  99.84126984  99.52380952  660.71428571]\n",
    "3 [ 86.34831461  97.07865169  84.94382022  93.93258427  67.19101124 56.06741573  89.88764045  100.         100.         775.4494382 ]"
   ]
  },
  {
   "cell_type": "code",
   "execution_count": null,
   "metadata": {},
   "outputs": [],
   "source": [
    "0:150 第一类： 开车较慢，且驾驶习惯不好，油耗较高，行驶过程中怠速较多，且行车频繁变速，过弯道时车速过快，连续行驶时间较长，且油耗较高，\n",
    "               行车不安全，且不能达到节能的开车标准。\n",
    "1:68  第二类： 平均速度较快，行车不平稳，怠速时间过长，容易造成油耗较大，且尾气排放污染空气，不太节能\n",
    "2:136 第三类： 平均速度较慢，存在熄火滑行，紧急变道等不安全因素，车辆行驶不平稳容易造成油耗增加，车辆预热时间过长，不太节能且行车存在危险\n",
    "               因素\n",
    "3: 96 第四类： 开车较为平稳，拥有良好的驾驶习惯，能够达到节能环保行车的良好驾驶规范标准。\n",
    "\n",
    "由上分析可得，行车存在危险因素且没有良好的驾驶节能习惯的司机还是占大多数，\n",
    "首先，在行车过程中应注重行车安全，行驶途中应平稳行车，避免突然变速，同时停车时确认停车路段与停车操作，避免熄火滑行，还有疲劳驾驶也说一下\n",
    "其次，遵守节能驾驶的规范，养成良好的驾驶习惯，为了降低油耗，应尽量减少怠速预热时长，。急加速急减速也耗油。。。。。"
   ]
  },
  {
   "cell_type": "code",
   "execution_count": 49,
   "metadata": {},
   "outputs": [
    {
     "name": "stdout",
     "output_type": "stream",
     "text": [
      "[1 3 2 0 0 2 1 0 0 2 1 1 1 2 2 1 1 1 1 2 1 2 2 0 2 2 2 2 0 0 0 0 2 0 1 0 2\n",
      " 1 2 0 2 0 0 2 3 2 0 2 2 0 0 2 0 0 0 3 0 0 0 0 0 0 2 2 0 3 0 0 1 1 2 0 2 1\n",
      " 3 3 2 0 2 1 0 2 2 3 3 2 0 3 0 0 0 2 0 2 2 3 3 0 3 2 3 3 2 3 3 2 0 2 3 0 3\n",
      " 3 0 2 0 1 1 1 3 0 0 0 1 1 1 1 0 2 0 2 1 2 2 0 1 2 2 0 1 2 1 1 2 2 1 2 2 2\n",
      " 2 2 2 2 1 2 0 0 2 2 0 1 2 3 2 1 1 0 3 1 2 0 2 2 3 2 1 1 0 2 1 1 2 2 2 1 2\n",
      " 2 1 1 2 1 1 2 1 1 1 2 1 1 1 1 1 1 1 1 2 1 0 2 1 0 2 1 1 2 1 1 3 2 2 0 2 2\n",
      " 0 2 3 1 2 0 3 2 3 3 3 3 0 0 2 3 2 1 3 2 2 0 3 3 0 2 0 2 0 0 2 2 1 0 0 2 3\n",
      " 3 0 0 3 3 0 2 3 1 0 2 0 0 2 3 0 0 0 3 0 2 0 3 0 0 1 3 0 2 0 0 2 2 2 0 0 0\n",
      " 2 3 3 3 3 2 0 2 2 2 2 2 2 0 0 2 0 2 3 3 0 0 2 0 0 2 2 2 0 3 3 2 0 0 3 3 0\n",
      " 0 3 2 0 0 3 3 2 0 2 3 3 0 0 0 0 0 2 3 0 0 0 0 2 0 0 2 2 0 0 3 3 0 0 3 3 0\n",
      " 2 0 2 3 0 0 3 0 3 3 0 1 3 2 3 3 0 3 0 0 3 1 0 2 1 3 0 0 0 0 3 3 3 3 3 0 3\n",
      " 3 0 3 0 3 3 3 3 0 3 0 3 0 3 0 3 3 3 0 2 0 2 0 3 2 2 2 0 2 2 2 0 0 3 2 2 0\n",
      " 3 3 3 0 0 0]\n"
     ]
    },
    {
     "data": {
      "text/plain": [
       "defaultdict(int, {1: 68, 3: 96, 2: 136, 0: 150})"
      ]
     },
     "execution_count": 49,
     "metadata": {},
     "output_type": "execute_result"
    }
   ],
   "source": [
    "from collections import defaultdict\n",
    "print(y_pred)\n",
    "\n",
    "label_dict = defaultdict(int)\n",
    "for i in y_pred:\n",
    "    label_dict[i] +=1\n",
    "label_dict"
   ]
  },
  {
   "cell_type": "code",
   "execution_count": null,
   "metadata": {},
   "outputs": [],
   "source": [
    "1. 提取聚类特征（450辆车的得分）\n",
    "2. 进行聚类，聚类数目为4\n",
    "3. 对数据进行PCA处理，方便可视化（得到聚类结果图）\n",
    "4. 分析聚类结果 ：得到每一类簇的人群数量；根据每一类簇的中心，分析该类簇特征，得到司机驾驶画像； "
   ]
  }
 ],
 "metadata": {
  "kernelspec": {
   "display_name": "Python 3",
   "language": "python",
   "name": "python3"
  },
  "language_info": {
   "codemirror_mode": {
    "name": "ipython",
    "version": 3
   },
   "file_extension": ".py",
   "mimetype": "text/x-python",
   "name": "python",
   "nbconvert_exporter": "python",
   "pygments_lexer": "ipython3",
   "version": "3.7.0"
  }
 },
 "nbformat": 4,
 "nbformat_minor": 2
}
